{
 "cells": [
  {
   "cell_type": "code",
   "execution_count": null,
   "metadata": {},
   "outputs": [],
   "source": [
    "%matplotlib inline\n",
    "import pandas as pd\n",
    "\n",
    "# Suppress warnings\n",
    "import warnings\n",
    "warnings.filterwarnings('ignore')\n",
    "\n",
    "# Getting the data\n",
    "data = \"https://vincentarelbundock.github.io/Rdatasets/csv/carData/OBrienKaiser.csv\"\n",
    "\n",
    "# Loading the data into a Pandas dataframe\n",
    "df = pd.read_csv(data, index_col=0)\n",
    "\n",
    "# Using Pandas head to check the first 5 rows of the dataframe\n",
    "printdf.head()"
   ]
  },
  {
   "cell_type": "markdown",
   "metadata": {},
   "source": []
  },
  {
   "cell_type": "code",
   "execution_count": null,
   "metadata": {},
   "outputs": [],
   "source": [
    "df[\"id\"] = df.index\n",
    "df_long = pd.wide_to_long(df, [\"pre\", \"post\", \"fup\"], \n",
    "                i=[\"id\", \"gender\", \"treatment\"], \n",
    "                j='hour', sep=\".\").reset_index()\n",
    "\n",
    "df_long = pd.melt(df_long,id_vars=[\"id\", \"gender\", \"treatment\", \"hour\"], \n",
    "                  var_name='phase', value_name='value')\n",
    "\n",
    "df_long.head()"
   ]
  },
  {
   "cell_type": "markdown",
   "metadata": {},
   "source": []
  },
  {
   "cell_type": "code",
   "execution_count": null,
   "metadata": {},
   "outputs": [],
   "source": [
    "import seaborn as sns \n",
    "\n",
    "g = sns.catplot(x=\"phase\", y=\"value\", kind=\"box\", hue=\"treatment\", data=df_long)"
   ]
  },
  {
   "cell_type": "code",
   "execution_count": null,
   "metadata": {},
   "outputs": [],
   "source": [
    "ax = sns.lineplot(x=\"phase\", y=\"value\", hue=\"treatment\",\n",
    "                   data=df_long)"
   ]
  },
  {
   "cell_type": "code",
   "execution_count": null,
   "metadata": {},
   "outputs": [],
   "source": [
    "from pingouin import mixed_anova\n",
    "\n",
    "aov = mixed_anova(dv='value', between='treatment',\n",
    "                  within='phase', subject='id', data=df_long)\n",
    "\n",
    "print(aov)"
   ]
  },
  {
   "cell_type": "code",
   "execution_count": null,
   "metadata": {},
   "outputs": [],
   "source": []
  }
 ],
 "metadata": {
  "kernelspec": {
   "display_name": "Python 3",
   "language": "python",
   "name": "python3"
  },
  "language_info": {
   "codemirror_mode": {
    "name": "ipython",
    "version": 3
   },
   "file_extension": ".py",
   "mimetype": "text/x-python",
   "name": "python",
   "nbconvert_exporter": "python",
   "pygments_lexer": "ipython3",
   "version": "3.7.3"
  }
 },
 "nbformat": 4,
 "nbformat_minor": 2
}
